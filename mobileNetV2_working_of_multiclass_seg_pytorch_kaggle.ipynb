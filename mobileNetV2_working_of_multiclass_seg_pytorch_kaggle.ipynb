{
  "cells": [
    {
      "cell_type": "code",
      "execution_count": 74,
      "metadata": {
        "id": "bC9oqqU6OKlc"
      },
      "outputs": [],
      "source": [
        "import numpy as np\n",
        "import os\n",
        "from torch.utils.data import Dataset\n",
        "import torch\n",
        "from PIL import Image\n",
        "import matplotlib.pyplot as plt\n",
        "from albumentations.pytorch import ToTensorV2\n",
        "import albumentations as A\n",
        "import torch.nn as nn\n",
        "from torch.optim import Adam\n",
        "from tqdm import tqdm"
      ]
    },
    {
      "cell_type": "code",
      "source": [
        "!pip install torchsummary "
      ],
      "metadata": {
        "colab": {
          "base_uri": "https://localhost:8080/"
        },
        "id": "tDzdgcfg0pMl",
        "outputId": "490cb894-d551-4172-9d67-f2aa5cf3e076"
      },
      "execution_count": 8,
      "outputs": [
        {
          "output_type": "stream",
          "name": "stdout",
          "text": [
            "Looking in indexes: https://pypi.org/simple, https://us-python.pkg.dev/colab-wheels/public/simple/\n",
            "Requirement already satisfied: torchsummary in /usr/local/lib/python3.10/dist-packages (1.5.1)\n"
          ]
        }
      ]
    },
    {
      "cell_type": "code",
      "source": [
        "import torch\n",
        "#model = torch.jit.script(torch.hub.load('pytorch/vision:v0.10.0', 'mobilenet_v2', pretrained=True))\n",
        "mobileNetv2 = torch.hub.load('pytorch/vision:v0.10.0', 'mobilenet_v2', pretrained=True)\n",
        "#mobileNetv2.eval()"
      ],
      "metadata": {
        "colab": {
          "base_uri": "https://localhost:8080/"
        },
        "id": "RG_IQFHy1N5u",
        "outputId": "d77b6d00-589b-4dbb-d14e-669254cd7b9c"
      },
      "execution_count": 120,
      "outputs": [
        {
          "output_type": "stream",
          "name": "stderr",
          "text": [
            "Using cache found in /root/.cache/torch/hub/pytorch_vision_v0.10.0\n"
          ]
        }
      ]
    },
    {
      "cell_type": "code",
      "source": [
        "encoder = [ torch.nn.Identity(),mobileNetv2.features[:2],  mobileNetv2.features[2:4],mobileNetv2.features[4:7],mobileNetv2.features[7:14],mobileNetv2.features[14:19]]"
      ],
      "metadata": {
        "id": "ols9kNM94_VK"
      },
      "execution_count": 121,
      "outputs": []
    },
    {
      "cell_type": "code",
      "source": [
        "device = torch.device(\"cuda:0\" if torch.cuda.is_available() else \"cpu\")"
      ],
      "metadata": {
        "id": "BOuKvxv7VwDf"
      },
      "execution_count": 122,
      "outputs": []
    },
    {
      "cell_type": "code",
      "source": [
        "from torch._C import NoneType\n",
        "import torch\n",
        "import torch.nn as nn\n",
        "\n",
        "class conv_block(nn.Module):\n",
        "    def __init__(self, in_c, out_c):\n",
        "        super().__init__()\n",
        "        self.conv = nn.Sequential(\n",
        "            nn.Conv2d(in_c, out_c, kernel_size=3, padding=1),\n",
        "            nn.BatchNorm2d(out_c),\n",
        "            nn.ReLU(inplace=True),\n",
        "            nn.Conv2d(out_c, out_c, kernel_size=3, padding=1),\n",
        "            nn.BatchNorm2d(out_c),\n",
        "            nn.ReLU(inplace=True)\n",
        "        )\n",
        "\n",
        "    def forward(self, x):\n",
        "        #print(\"conv1 before:\",x.shape)\n",
        "        #x = self.conv1(x)\n",
        "        #print(\"conv1 done:\",x.shape)\n",
        "        #x = self.conv2(x)\n",
        "        #print(\"conv2 done:\",x.shape)\n",
        "        return self.conv(x)\n",
        "\n",
        "class encoder_block(nn.Module):\n",
        "    def __init__(self, in_c, out_c):\n",
        "        super().__init__()\n",
        "\n",
        "        self.conv = conv_block(in_c, out_c)\n",
        "        self.pool = nn.MaxPool2d((2, 2))\n",
        "\n",
        "    def forward(self, x):\n",
        "        s = self.conv(x)\n",
        "        p = self.pool(s)\n",
        "        return s, p\n",
        "\n",
        "class attention_gate(nn.Module):\n",
        "    def __init__(self, in_c, out_c):\n",
        "        super().__init__()\n",
        "\n",
        "        self.Wg = nn.Sequential(\n",
        "            nn.Conv2d(in_c[0], out_c, kernel_size=1, padding=0),\n",
        "            nn.BatchNorm2d(out_c)\n",
        "        )\n",
        "        self.Ws = nn.Sequential(\n",
        "            nn.Conv2d(in_c[1], out_c, kernel_size=1, padding=0),\n",
        "            nn.BatchNorm2d(out_c)\n",
        "        )\n",
        "        self.relu = nn.ReLU(inplace=True)\n",
        "        self.output = nn.Sequential(\n",
        "            nn.Conv2d(out_c, out_c, kernel_size=1, padding=0),\n",
        "            nn.Sigmoid()\n",
        "        )\n",
        "\n",
        "    def forward(self, g, s):\n",
        "        Wg = self.Wg(g)\n",
        "        Ws = self.Ws(s)\n",
        "        out = self.relu(Wg + Ws)\n",
        "        out = self.output(out)\n",
        "        return out * s\n",
        "\n",
        "class decoder_block(nn.Module):\n",
        "    def __init__(self, in_c, out_c):\n",
        "        super().__init__()\n",
        "\n",
        "        self.up = nn.Upsample(scale_factor=2, mode=\"bilinear\", align_corners=True)\n",
        "        #self.ag = attention_gate(in_c, out_c)\n",
        "        self.c1 = conv_block(in_c[0]+in_c[1], out_c)\n",
        "\n",
        "    def forward(self, x, s=None):\n",
        "        #print(\"before upsampling done:\",x.shape,s.shape)\n",
        "        x = self.up(x)\n",
        "        #print(\"upsampling done:\",x.shape,s.shape)\n",
        "        #s = self.ag(x, s)\n",
        "        #print(type(s))\n",
        "        if s is not None:\n",
        "          x = torch.cat([x, s], dim=1)\n",
        "        #print(\"concatination done\",x.shape)\n",
        "        x = self.c1(x)\n",
        "        #print(\"cov_block block done:\",x.shape)\n",
        "        return x\n",
        "\n",
        "class mobileNetV2(nn.Module):\n",
        "    def __init__(self):\n",
        "        super().__init__()\n",
        "\n",
        "        self.e1 = encoder[0]#encoder_block(3, 64) #   (3,16)\n",
        "        self.e2 = encoder[1]#encoder_block(64, 128)  #(16,24)\n",
        "        self.e3 = encoder[2]#encoder_block(128, 256)#(24,32)\n",
        "        self.e4 = encoder[3]                        #(32,96)\n",
        "        self.e5 = encoder[4]                        #(96,1280)\n",
        "        \n",
        "        self.b1 = encoder[5]  \n",
        "        #self.b1 = conv_block(1280, 2560)\n",
        "\n",
        "        self.d1 = decoder_block([1280, 96], 256)\n",
        "        #self.d2 = decoder_block([1, 96], 96)\n",
        "        self.d2 = decoder_block([256, 32], 128)\n",
        "        self.d3 = decoder_block([128, 24], 64)\n",
        "        self.d4 = decoder_block([64, 16], 32)\n",
        "        #print(\"completed d4 decoder block\")\n",
        "        self.d5 = decoder_block([32, 0], 16)\n",
        "\n",
        "        self.output = nn.Conv2d(16, 4, kernel_size=1, padding=0)\n",
        "        \n",
        "\n",
        "    def forward(self, x):\n",
        "        s1 = self.e1(x)\n",
        "        \n",
        "        s2 = self.e2(s1)\n",
        "        \n",
        "        s3 = self.e3(s2)\n",
        "        s4 = self.e4(s3)\n",
        "        s5 = self.e5(s4)\n",
        "\n",
        "        b1 = self.b1(s5)\n",
        "        #print(\"b1:\",b1.shape)\n",
        "        #print(\"s5:\",s5.shape)\n",
        "        \n",
        "        d1 = self.d1(b1, s5)\n",
        "        \n",
        "        d2 = self.d2(d1, s4)\n",
        "        d3 = self.d3(d2, s3)\n",
        "        d4 = self.d4(d3, s2)\n",
        "        #print(\"d4 done\",d4.shape)\n",
        "        d5 = self.d5(d4, None)#torch.tensor(0))\n",
        "        \n",
        "        \n",
        "        output = self.output(d5)\n",
        "        #print(\"ouput:\",output.shape)\n",
        "        \n",
        "        return output"
      ],
      "metadata": {
        "id": "ORk9H0512M63"
      },
      "execution_count": 123,
      "outputs": []
    },
    {
      "cell_type": "code",
      "source": [
        "device = torch.device(\"cuda:0\" if torch.cuda.is_available() else \"cpu\")"
      ],
      "metadata": {
        "id": "cXT-cP8-Bnh3"
      },
      "execution_count": 6,
      "outputs": []
    },
    {
      "cell_type": "code",
      "source": [
        "import torchsummary as summary \n",
        "image = torch.rand((1,3,256,256))\n",
        "model = mobileNetV2()\n",
        "#summary(model,(3,256,256))\n",
        "o = model(image)"
      ],
      "metadata": {
        "id": "OaSQzYfp-Ejx"
      },
      "execution_count": 124,
      "outputs": []
    },
    {
      "cell_type": "code",
      "execution_count": 8,
      "metadata": {
        "id": "fBYBGeBZO6Gn",
        "colab": {
          "base_uri": "https://localhost:8080/"
        },
        "outputId": "9018af55-dea2-47c7-864b-6d3750f96b82"
      },
      "outputs": [
        {
          "output_type": "stream",
          "name": "stdout",
          "text": [
            "Looking in indexes: https://pypi.org/simple, https://us-python.pkg.dev/colab-wheels/public/simple/\n",
            "Collecting unzip\n",
            "  Downloading unzip-1.0.0.tar.gz (704 bytes)\n",
            "  Preparing metadata (setup.py) ... \u001b[?25l\u001b[?25hdone\n",
            "Building wheels for collected packages: unzip\n",
            "  Building wheel for unzip (setup.py) ... \u001b[?25l\u001b[?25hdone\n",
            "  Created wheel for unzip: filename=unzip-1.0.0-py3-none-any.whl size=1279 sha256=d87cd4b324d3bc0f06996911bccea92bfe7dceff7f26d413f45f83077e48e7e4\n",
            "  Stored in directory: /root/.cache/pip/wheels/80/dc/7a/f8af45bc239e7933509183f038ea8d46f3610aab82b35369f4\n",
            "Successfully built unzip\n",
            "Installing collected packages: unzip\n",
            "Successfully installed unzip-1.0.0\n"
          ]
        }
      ],
      "source": [
        "!pip3 install unzip"
      ]
    },
    {
      "cell_type": "code",
      "execution_count": null,
      "metadata": {
        "id": "HZvE3bhSXuLu",
        "colab": {
          "base_uri": "https://localhost:8080/"
        },
        "outputId": "98e0f6d0-b1ff-4844-c9d3-666838cd2616"
      },
      "outputs": [
        {
          "output_type": "stream",
          "name": "stdout",
          "text": [
            "Mounted at /content/drive\n"
          ]
        }
      ],
      "source": [
        "from google.colab import drive\n",
        "drive.mount('/content/drive')"
      ]
    },
    {
      "cell_type": "code",
      "execution_count": 57,
      "metadata": {
        "colab": {
          "base_uri": "https://localhost:8080/"
        },
        "id": "hg1MO-80rUBI",
        "outputId": "e15bcea4-c08d-4243-ed63-593a7925b7bc"
      },
      "outputs": [
        {
          "output_type": "stream",
          "name": "stdout",
          "text": [
            "Looking in indexes: https://pypi.org/simple, https://us-python.pkg.dev/colab-wheels/public/simple/\n",
            "Collecting torchmetrics\n",
            "  Downloading torchmetrics-0.11.4-py3-none-any.whl (519 kB)\n",
            "\u001b[2K     \u001b[90m━━━━━━━━━━━━━━━━━━━━━━━━━━━━━━━━━━━━━━\u001b[0m \u001b[32m519.2/519.2 kB\u001b[0m \u001b[31m10.5 MB/s\u001b[0m eta \u001b[36m0:00:00\u001b[0m\n",
            "\u001b[?25hRequirement already satisfied: numpy>=1.17.2 in /usr/local/lib/python3.10/dist-packages (from torchmetrics) (1.22.4)\n",
            "Requirement already satisfied: torch>=1.8.1 in /usr/local/lib/python3.10/dist-packages (from torchmetrics) (2.0.1+cu118)\n",
            "Requirement already satisfied: packaging in /usr/local/lib/python3.10/dist-packages (from torchmetrics) (23.1)\n",
            "Requirement already satisfied: filelock in /usr/local/lib/python3.10/dist-packages (from torch>=1.8.1->torchmetrics) (3.12.0)\n",
            "Requirement already satisfied: typing-extensions in /usr/local/lib/python3.10/dist-packages (from torch>=1.8.1->torchmetrics) (4.5.0)\n",
            "Requirement already satisfied: sympy in /usr/local/lib/python3.10/dist-packages (from torch>=1.8.1->torchmetrics) (1.11.1)\n",
            "Requirement already satisfied: networkx in /usr/local/lib/python3.10/dist-packages (from torch>=1.8.1->torchmetrics) (3.1)\n",
            "Requirement already satisfied: jinja2 in /usr/local/lib/python3.10/dist-packages (from torch>=1.8.1->torchmetrics) (3.1.2)\n",
            "Requirement already satisfied: triton==2.0.0 in /usr/local/lib/python3.10/dist-packages (from torch>=1.8.1->torchmetrics) (2.0.0)\n",
            "Requirement already satisfied: cmake in /usr/local/lib/python3.10/dist-packages (from triton==2.0.0->torch>=1.8.1->torchmetrics) (3.25.2)\n",
            "Requirement already satisfied: lit in /usr/local/lib/python3.10/dist-packages (from triton==2.0.0->torch>=1.8.1->torchmetrics) (16.0.5)\n",
            "Requirement already satisfied: MarkupSafe>=2.0 in /usr/local/lib/python3.10/dist-packages (from jinja2->torch>=1.8.1->torchmetrics) (2.1.2)\n",
            "Requirement already satisfied: mpmath>=0.19 in /usr/local/lib/python3.10/dist-packages (from sympy->torch>=1.8.1->torchmetrics) (1.3.0)\n",
            "Installing collected packages: torchmetrics\n",
            "Successfully installed torchmetrics-0.11.4\n"
          ]
        }
      ],
      "source": [
        "!pip install torchmetrics"
      ]
    },
    {
      "cell_type": "code",
      "execution_count": 110,
      "metadata": {
        "id": "ZLLETHzHO7PO",
        "colab": {
          "base_uri": "https://localhost:8080/"
        },
        "outputId": "f3fbfed9-a823-497f-89b7-5d5acc4abd29"
      },
      "outputs": [
        {
          "output_type": "stream",
          "name": "stdout",
          "text": [
            "unzip:  cannot find or open /content/drive/MyDrive/Colab/full_labels_for_deep_learning/masks_as_128x128_patches.zip, /content/drive/MyDrive/Colab/full_labels_for_deep_learning/masks_as_128x128_patches.zip.zip or /content/drive/MyDrive/Colab/full_labels_for_deep_learning/masks_as_128x128_patches.zip.ZIP.\n",
            "mkdir: cannot create directory ‘mask’: File exists\n",
            "cp: cannot stat '*.png': No such file or directory\n",
            "rm: cannot remove '*.png': No such file or directory\n",
            "unzip:  cannot find or open /content/drive/MyDrive/Colab/full_labels_for_deep_learning/images_as_128x128_patches.zip, /content/drive/MyDrive/Colab/full_labels_for_deep_learning/images_as_128x128_patches.zip.zip or /content/drive/MyDrive/Colab/full_labels_for_deep_learning/images_as_128x128_patches.zip.ZIP.\n",
            "mkdir: cannot create directory ‘image’: File exists\n",
            "cp: cannot stat '*.png': No such file or directory\n",
            "rm: cannot remove '*.png': No such file or directory\n"
          ]
        }
      ],
      "source": [
        "!unzip /content/drive/MyDrive/Colab/full_labels_for_deep_learning/masks_as_128x128_patches.zip\n",
        "!mkdir mask\n",
        "!cp -r  *.png ./mask/\n",
        "!rm *.png \n",
        "\n",
        "!unzip /content/drive/MyDrive/Colab/full_labels_for_deep_learning/images_as_128x128_patches.zip\n",
        "!mkdir image\n",
        "!cp -r  *.png ./image/\n",
        "!rm *.png "
      ]
    },
    {
      "cell_type": "code",
      "source": [
        "import os\n",
        "from google.colab import drive\n",
        "drive.mount('/content/gdrive')\n",
        "drive_path = \"/gdrive/MyDrive/Colab Notebooks\"\n",
        "\n",
        "#DATA_DIR = './data/CamVid/'blank\n",
        "DATA_DIR = '/content/data/CamVid'\n",
        "\n",
        "# load repo with data if it is not exists\n",
        "if not os.path.exists(DATA_DIR):\n",
        "    print('Loading data...')\n",
        "    os.system('git clone https://github.com/alexgkendall/SegNet-Tutorial ./data')\n",
        "    print('Done!')"
      ],
      "metadata": {
        "colab": {
          "base_uri": "https://localhost:8080/"
        },
        "id": "_CUBdfJ8NP3N",
        "outputId": "27486a44-8f1d-47fd-f16d-687b012c5f11"
      },
      "execution_count": 59,
      "outputs": [
        {
          "output_type": "stream",
          "name": "stdout",
          "text": [
            "Mounted at /content/gdrive\n",
            "Loading data...\n",
            "Done!\n"
          ]
        }
      ]
    },
    {
      "cell_type": "code",
      "source": [
        "DATA_DIR = '/content/data/CamVid'\n",
        "x_train_dir = os.path.join(DATA_DIR, \"train\")\n",
        "y_train_dir = os.path.join(DATA_DIR, \"trainannot\")\n",
        "\n",
        "x_valid_dir = os.path.join(DATA_DIR, \"val\")\n",
        "y_valid_dir = os.path.join(DATA_DIR, \"valannot\")\n",
        "\n",
        "x_test_dir = os.path.join(DATA_DIR, \"test\")\n",
        "y_test_dir = os.path.join(DATA_DIR, \"testannot\")"
      ],
      "metadata": {
        "id": "9JmO83byN4aH"
      },
      "execution_count": 60,
      "outputs": []
    },
    {
      "cell_type": "code",
      "source": [
        "print('the number of image/label in the train: ',len(os.listdir(x_train_dir)))\n",
        "print('the number of image/label in the validation: ',len(os.listdir(x_valid_dir)))\n",
        "print('the number of image/label in the test: ',len(os.listdir(x_test_dir)))"
      ],
      "metadata": {
        "colab": {
          "base_uri": "https://localhost:8080/"
        },
        "id": "iX02mJDJN7s3",
        "outputId": "a4ee1a10-2f67-43e5-e508-39936534c58b"
      },
      "execution_count": 61,
      "outputs": [
        {
          "output_type": "stream",
          "name": "stdout",
          "text": [
            "the number of image/label in the train:  367\n",
            "the number of image/label in the validation:  101\n",
            "the number of image/label in the test:  233\n"
          ]
        }
      ]
    },
    {
      "cell_type": "code",
      "execution_count": 125,
      "metadata": {
        "id": "x50XsaO0YuLe"
      },
      "outputs": [],
      "source": [
        "def to_categorical(y, num_classes=None, dtype=\"float32\"):\n",
        "    \"\"\"Converts a class vector (integers) to binary class matrix.\n",
        "    E.g. for use with `categorical_crossentropy`.\n",
        "    Args:\n",
        "        y: Array-like with class values to be converted into a matrix\n",
        "            (integers from 0 to `num_classes - 1`).\n",
        "        num_classes: Total number of classes. If `None`, this would be inferred\n",
        "          as `max(y) + 1`.\n",
        "        dtype: The data type expected by the input. Default: `'float32'`.\n",
        "    Returns:\n",
        "        A binary matrix representation of the input as a NumPy array. The class\n",
        "        axis is placed last.\n",
        "    Example:\n",
        "    >>> a = tf.keras.utils.to_categorical([0, 1, 2, 3], num_classes=4)\n",
        "    >>> print(a)\n",
        "    [[1. 0. 0. 0.]\n",
        "     [0. 1. 0. 0.]\n",
        "     [0. 0. 1. 0.]\n",
        "     [0. 0. 0. 1.]]\n",
        "    >>> b = tf.constant([.9, .04, .03, .03,\n",
        "    ...                  .3, .45, .15, .13,\n",
        "    ...                  .04, .01, .94, .05,\n",
        "    ...                  .12, .21, .5, .17],\n",
        "    ...                 shape=[4, 4])\n",
        "    >>> loss = tf.keras.backend.categorical_crossentropy(a, b)\n",
        "    >>> print(np.around(loss, 5))\n",
        "    [0.10536 0.82807 0.1011  1.77196]\n",
        "    >>> loss = tf.keras.backend.categorical_crossentropy(a, a)\n",
        "    >>> print(np.around(loss, 5))\n",
        "    [0. 0. 0. 0.]\n",
        "    \"\"\"\n",
        "    y = np.array(y, dtype=\"int\")\n",
        "    input_shape = y.shape\n",
        "\n",
        "    # Shrink the last dimension if the shape is (..., 1).\n",
        "    if input_shape and input_shape[-1] == 1 and len(input_shape) > 1:\n",
        "        input_shape = tuple(input_shape[:-1])\n",
        "\n",
        "    y = y.reshape(-1)\n",
        "    if not num_classes:\n",
        "        num_classes = np.max(y) + 1\n",
        "    n = y.shape[0]\n",
        "    categorical = np.zeros((n, num_classes), dtype=dtype)\n",
        "    categorical[np.arange(n), y] = 1\n",
        "    output_shape = input_shape + (num_classes,)\n",
        "    categorical = np.reshape(categorical, output_shape)\n",
        "    return categorical"
      ]
    },
    {
      "cell_type": "code",
      "source": [
        "import numpy as np\n",
        "\n",
        "\n",
        "def preprocess_input(x, mean=None, std=None, input_space=\"RGB\", input_range=None, **kwargs):\n",
        "\n",
        "    if input_space == \"BGR\":\n",
        "        x = x[..., ::-1].copy()\n",
        "\n",
        "    if input_range is not None:\n",
        "        if x.max() > 1 and input_range[1] == 1:\n",
        "            x = x / 255.0\n",
        "\n",
        "    if mean is not None:\n",
        "        mean = np.array(mean)\n",
        "        x = x - mean\n",
        "\n",
        "    if std is not None:\n",
        "        std = np.array(std)\n",
        "        x = x / std\n",
        "\n",
        "    return x.astype('float32')"
      ],
      "metadata": {
        "id": "twkKeOBSi6Di"
      },
      "execution_count": 126,
      "outputs": []
    },
    {
      "cell_type": "code",
      "execution_count": 127,
      "metadata": {
        "id": "3vNvnYD3QH_f"
      },
      "outputs": [],
      "source": [
        "import os\n",
        "from PIL import Image\n",
        "from torch.utils.data import Dataset\n",
        "import numpy as np\n",
        "import cv2\n",
        "class McroscopingDataset(Dataset):\n",
        "    \n",
        "    def __init__(self,image_dir,mask_dir,transform=None):\n",
        "      super().__init__()\n",
        "      self.image_dir = image_dir\n",
        "      self.mask_dir = mask_dir\n",
        "      self.transform = transform\n",
        "      self.images = os.listdir(image_dir)\n",
        "      classes = ['1', '2', '3', '4']\n",
        "      self.CLASSES = ['1', '2', '3', '4']\n",
        "      # convert str names to class values on masks\n",
        "      self.class_values = [self.CLASSES.index(cls.lower())+1 for cls in classes]\n",
        "\n",
        "    def __len__(self):\n",
        "      return len(self.images)\n",
        "\n",
        "    def __getitem__(self,index):\n",
        "          img_path = os.path.join(self.image_dir,self.images[index])\n",
        "          mask_path = os.path.join(self.mask_dir,self.images[index]).replace('images_as','masks_as') \n",
        "          #mask_path = os.path.join(self.mask_dir,self.images[index])\n",
        "          image = cv2.resize(cv2.imread(img_path),(256,256))\n",
        "          mask = cv2.resize(cv2.imread(mask_path,0),(256,256))\n",
        "          mask = mask - 1\n",
        "          mask = to_categorical(mask, num_classes=4)\n",
        "           # extract certain classes from mask (e.g. cars)\n",
        "          #masks = [(mask == v) for v in self.class_values]\n",
        "          #mask = np.stack(masks, axis=-1).astype('float')\n",
        "\n",
        "          if self.transform is not None:\n",
        "              image = preprocess_input(image,mean=[0.485, 0.456, 0.406],std=[0.229, 0.224, 0.225],input_image='BGR',input_range=[0,1])\n",
        "              image = self.transform(image)\n",
        "              mask = self.transform(mask)\n",
        "\n",
        "              \n",
        "          return image,mask"
      ]
    },
    {
      "cell_type": "code",
      "execution_count": 128,
      "metadata": {
        "id": "adOFRDzPQRhC"
      },
      "outputs": [],
      "source": [
        "from torchvision import transforms\n",
        "preprocess = transforms.Compose([\n",
        "    transforms.ToTensor(),\n",
        "    #transforms.Normalize(mean=0, std=1),\n",
        "])\n"
      ]
    },
    {
      "cell_type": "code",
      "execution_count": null,
      "metadata": {
        "colab": {
          "base_uri": "https://localhost:8080/"
        },
        "id": "KnwDAmR0Wc3I",
        "outputId": "201f42b2-540f-4c7e-92fd-4f288fe6ee6a"
      },
      "outputs": [
        {
          "output_type": "execute_result",
          "data": {
            "text/plain": [
              "(128, 128, 3)"
            ]
          },
          "metadata": {},
          "execution_count": 68
        }
      ],
      "source": [
        "image = cv2.imread('/content/image/images_as_128x128_patches-0.png')\n",
        "image.shape"
      ]
    },
    {
      "cell_type": "code",
      "execution_count": 129,
      "metadata": {
        "id": "cA2If6DZQni3"
      },
      "outputs": [],
      "source": [
        "def get_images(image_dir,mask_dir,transform = None,batch_size=1,shuffle=True,pin_memory=True):\n",
        "    data = McroscopingDataset(image_dir,mask_dir,transform = transform)\n",
        "    #print(data)\n",
        "    train_size = int(0.8 * data.__len__())\n",
        "    test_size = data.__len__() - train_size\n",
        "    train_dataset, test_dataset = torch.utils.data.random_split(data, [train_size, test_size])\n",
        "    train_batch = torch.utils.data.DataLoader(data, batch_size=batch_size, shuffle=shuffle, pin_memory=pin_memory)\n",
        "    test_batch = torch.utils.data.DataLoader(test_dataset, batch_size=batch_size, shuffle=shuffle, pin_memory=pin_memory)\n",
        "    return train_batch,test_batch"
      ]
    },
    {
      "cell_type": "code",
      "execution_count": 130,
      "metadata": {
        "id": "nI2lb24nRIWW"
      },
      "outputs": [],
      "source": [
        "image_dir = '/content/image'\n",
        "mask_dir = '/content/mask'\n"
      ]
    },
    {
      "cell_type": "code",
      "execution_count": 131,
      "metadata": {
        "id": "5ti2Uj0qPBxa"
      },
      "outputs": [],
      "source": [
        "train_batch,test_batch= get_images(image_dir,mask_dir,transform = preprocess,batch_size=8,shuffle=True,pin_memory=True)\n",
        "#train_batch,test_batch= get_images(x_train_dir,y_train_dir,transform = preprocess,batch_size=8,shuffle=True,pin_memory=True)\n",
        "\n",
        "#val_batch = get_images(x_valid_dir,y_valid_dir,transform = preprocess,batch_size=8,shuffle=True,pin_memory=True)\n",
        "#test_batch = get_images(x_test_dir,x_test_dir,transform = preprocess,batch_size=8,shuffle=True,pin_memory=True)"
      ]
    },
    {
      "cell_type": "code",
      "execution_count": 25,
      "metadata": {
        "id": "4MdI-fuQRinE"
      },
      "outputs": [],
      "source": [
        "class encoding_block(nn.Module):\n",
        "    def __init__(self,in_channels, out_channels):\n",
        "        super(encoding_block,self).__init__()\n",
        "        model = []\n",
        "        model.append(nn.Conv2d(in_channels, out_channels, 3, 1, 1, bias=False))\n",
        "        model.append(nn.BatchNorm2d(out_channels))\n",
        "        model.append(nn.ReLU(inplace=True))\n",
        "        model.append(nn.Conv2d(out_channels, out_channels, 3, 1, 1, bias=False))\n",
        "        model.append(nn.BatchNorm2d(out_channels))\n",
        "        model.append(nn.ReLU(inplace=True))\n",
        "        self.conv = nn.Sequential(*model)\n",
        "    def forward(self, x):\n",
        "        return self.conv(x)  "
      ]
    },
    {
      "cell_type": "code",
      "execution_count": null,
      "metadata": {
        "id": "tNqdzWucU01v"
      },
      "outputs": [],
      "source": [
        "class unet_model(nn.Module):\n",
        "    def __init__(self,out_channels=23,features=[64, 128, 256, 512]):\n",
        "        super(unet_model,self).__init__()\n",
        "        self.pool = nn.MaxPool2d(kernel_size=(2,2),stride=(2,2))\n",
        "        self.conv1 = encoding_block(3,features[0])\n",
        "        self.conv2 = encoding_block(features[0],features[1])\n",
        "        self.conv3 = encoding_block(features[1],features[2])\n",
        "        self.conv4 = encoding_block(features[2],features[3])\n",
        "        self.conv5 = encoding_block(features[3]*2,features[3])\n",
        "        self.conv6 = encoding_block(features[3],features[2])\n",
        "        self.conv7 = encoding_block(features[2],features[1])\n",
        "        self.conv8 = encoding_block(features[1],features[0])        \n",
        "        self.tconv1 = nn.ConvTranspose2d(features[-1]*2, features[-1], kernel_size=2, stride=2)\n",
        "        self.tconv2 = nn.ConvTranspose2d(features[-1], features[-2], kernel_size=2, stride=2)\n",
        "        self.tconv3 = nn.ConvTranspose2d(features[-2], features[-3], kernel_size=2, stride=2)\n",
        "        self.tconv4 = nn.ConvTranspose2d(features[-3], features[-4], kernel_size=2, stride=2)        \n",
        "        self.bottleneck = encoding_block(features[3],features[3]*2)\n",
        "        self.final_layer = nn.Conv2d(features[0],out_channels,kernel_size=1)\n",
        "    def forward(self,x):\n",
        "        skip_connections = []\n",
        "        x = self.conv1(x)\n",
        "        skip_connections.append(x)\n",
        "        x = self.pool(x)\n",
        "        x = self.conv2(x)\n",
        "        skip_connections.append(x)\n",
        "        x = self.pool(x)\n",
        "        x = self.conv3(x)\n",
        "        skip_connections.append(x)\n",
        "        x = self.pool(x)\n",
        "        x = self.conv4(x)\n",
        "        skip_connections.append(x)\n",
        "        x = self.pool(x)\n",
        "        x = self.bottleneck(x)\n",
        "        skip_connections = skip_connections[::-1]\n",
        "        x = self.tconv1(x)\n",
        "        x = torch.cat((skip_connections[0], x), dim=1)\n",
        "        x = self.conv5(x)\n",
        "        x = self.tconv2(x)\n",
        "        x = torch.cat((skip_connections[1], x), dim=1)\n",
        "        x = self.conv6(x)\n",
        "        x = self.tconv3(x)\n",
        "        x = torch.cat((skip_connections[2], x), dim=1)\n",
        "        x = self.conv7(x)        \n",
        "        x = self.tconv4(x)\n",
        "        x = torch.cat((skip_connections[3], x), dim=1)\n",
        "        x = self.conv8(x)\n",
        "        x = self.final_layer(x)\n",
        "        #softmax = nn.Softmax(dim=1)\n",
        "        #x = softmax(x)\n",
        "        return x"
      ]
    },
    {
      "cell_type": "code",
      "source": [
        "import torch\n",
        "import torch.nn as nn\n",
        "\n",
        "class conv_block(nn.Module):\n",
        "    def __init__(self, in_c, out_c):\n",
        "        super().__init__()\n",
        "\n",
        "        self.conv = nn.Sequential(\n",
        "            nn.Conv2d(in_c, out_c, kernel_size=3, padding=1),\n",
        "            nn.BatchNorm2d(out_c),\n",
        "            nn.ReLU(inplace=True),\n",
        "            nn.Conv2d(out_c, out_c, kernel_size=3, padding=1),\n",
        "            nn.BatchNorm2d(out_c),\n",
        "            nn.ReLU(inplace=True)\n",
        "        )\n",
        "\n",
        "    def forward(self, x):\n",
        "        return self.conv(x)\n",
        "\n",
        "class encoder_block(nn.Module):\n",
        "    def __init__(self, in_c, out_c):\n",
        "        super().__init__()\n",
        "\n",
        "        self.conv = conv_block(in_c, out_c)\n",
        "        self.pool = nn.MaxPool2d((2, 2))\n",
        "\n",
        "    def forward(self, x):\n",
        "        s = self.conv(x)\n",
        "        p = self.pool(s)\n",
        "        return s, p\n",
        "\n",
        "class attention_gate(nn.Module):\n",
        "    def __init__(self, in_c, out_c):\n",
        "        super().__init__()\n",
        "\n",
        "        self.Wg = nn.Sequential(\n",
        "            nn.Conv2d(in_c[0], out_c, kernel_size=1, padding=0),\n",
        "            nn.BatchNorm2d(out_c)\n",
        "        )\n",
        "        self.Ws = nn.Sequential(\n",
        "            nn.Conv2d(in_c[1], out_c, kernel_size=1, padding=0),\n",
        "            nn.BatchNorm2d(out_c)\n",
        "        )\n",
        "        self.relu = nn.ReLU(inplace=True)\n",
        "        self.output = nn.Sequential(\n",
        "            nn.Conv2d(out_c, out_c, kernel_size=1, padding=0),\n",
        "            nn.Sigmoid()\n",
        "        )\n",
        "\n",
        "    def forward(self, g, s):\n",
        "        Wg = self.Wg(g)\n",
        "        Ws = self.Ws(s)\n",
        "        out = self.relu(Wg + Ws)\n",
        "        out = self.output(out)\n",
        "        return out * s\n",
        "\n",
        "class decoder_block(nn.Module):\n",
        "    def __init__(self, in_c, out_c):\n",
        "        super().__init__()\n",
        "\n",
        "        self.up = nn.Upsample(scale_factor=2, mode=\"bilinear\", align_corners=True)\n",
        "        #self.ag = attention_gate(in_c, out_c)\n",
        "        self.c1 = conv_block(in_c[0]+out_c, out_c)\n",
        "\n",
        "    def forward(self, x, s):\n",
        "        x = self.up(x)\n",
        "        #s = self.ag(x, s)\n",
        "        x = torch.cat([x, s], axis=1)\n",
        "        x = self.c1(x)\n",
        "        return x\n",
        "\n",
        "class attention_unet(nn.Module):\n",
        "    def __init__(self):\n",
        "        super().__init__()\n",
        "\n",
        "        self.e1 = encoder_block(3, 64)\n",
        "        self.e2 = encoder_block(64, 128)\n",
        "        self.e3 = encoder_block(128, 256)\n",
        "\n",
        "        self.b1 = conv_block(256, 512)\n",
        "\n",
        "        self.d1 = decoder_block([512, 256], 256)\n",
        "        self.d2 = decoder_block([256, 128], 128)\n",
        "        self.d3 = decoder_block([128, 64], 64)\n",
        "\n",
        "        self.output = nn.Conv2d(64, 4, kernel_size=1, padding=0)\n",
        "\n",
        "    def forward(self, x):\n",
        "        s1, p1 = self.e1(x)\n",
        "        s2, p2 = self.e2(p1)\n",
        "        s3, p3 = self.e3(p2)\n",
        "\n",
        "        b1 = self.b1(p3)\n",
        "\n",
        "        d1 = self.d1(b1, s3)\n",
        "        d2 = self.d2(d1, s2)\n",
        "        d3 = self.d3(d2, s1)\n",
        "        #print(\"d3:\",d3.shape)\n",
        "        output = self.output(d3)\n",
        "        print(\"ouput:\",output.shape)\n",
        "        return output"
      ],
      "metadata": {
        "id": "1CmV3b1WaUc1"
      },
      "execution_count": null,
      "outputs": []
    },
    {
      "cell_type": "code",
      "source": [
        "image = torch.rand((1,3,256,256))\n",
        "model = attention_unet()\n",
        "model(image)"
      ],
      "metadata": {
        "colab": {
          "base_uri": "https://localhost:8080/"
        },
        "id": "rMi7YYHSH8Lw",
        "outputId": "9ebdf003-dd32-4f3f-9965-782d05f48c64"
      },
      "execution_count": null,
      "outputs": [
        {
          "output_type": "stream",
          "name": "stdout",
          "text": [
            "ouput: torch.Size([1, 4, 256, 256])\n"
          ]
        },
        {
          "output_type": "execute_result",
          "data": {
            "text/plain": [
              "tensor([[[[-0.0768,  0.3738,  0.3264,  ...,  0.4023,  0.2890, -0.0585],\n",
              "          [ 0.2856,  0.1785,  0.0740,  ...,  0.2228,  0.4839,  0.1202],\n",
              "          [ 0.2566,  0.3757,  0.5598,  ...,  0.5833,  0.2586,  0.0506],\n",
              "          ...,\n",
              "          [-0.0509,  0.1006, -0.1939,  ...,  0.0501,  0.6223,  0.0922],\n",
              "          [-0.1830, -0.2596, -0.0103,  ...,  0.0263,  0.1431, -0.1935],\n",
              "          [ 0.2600,  0.0939,  0.2187,  ..., -0.1900,  0.0161, -0.2828]],\n",
              "\n",
              "         [[ 0.4994,  0.1433,  0.3556,  ...,  0.5614,  0.3713,  0.1657],\n",
              "          [ 0.2018, -0.2782, -0.4411,  ..., -0.0317, -0.1271,  0.0212],\n",
              "          [-0.0582, -0.2623, -0.3229,  ..., -0.2204, -0.3812,  0.0982],\n",
              "          ...,\n",
              "          [ 0.3731,  0.0873, -0.6851,  ..., -0.4523, -0.3305, -0.3096],\n",
              "          [ 0.2292,  0.0422, -0.3152,  ..., -0.5026, -0.4382, -0.1774],\n",
              "          [-0.0382,  0.3076,  0.4489,  ..., -0.2053, -0.3266, -0.0319]],\n",
              "\n",
              "         [[ 0.5566,  0.5385,  0.3309,  ...,  0.2497, -0.0563,  0.3072],\n",
              "          [ 0.0614,  0.4427,  0.0276,  ...,  0.4570, -0.1416,  0.2123],\n",
              "          [ 0.4877,  0.1087,  0.2969,  ...,  0.7913,  0.3912,  0.5776],\n",
              "          ...,\n",
              "          [-0.0204,  0.2419,  0.3624,  ...,  0.6808, -0.0747, -0.1888],\n",
              "          [-0.2082,  0.4288,  0.6028,  ...,  0.4719,  0.4578,  0.8749],\n",
              "          [-0.2274,  0.0092,  0.1510,  ...,  0.3164,  0.3066,  0.3065]],\n",
              "\n",
              "         [[ 0.1953, -0.1099, -0.3096,  ..., -0.3109, -0.1941, -0.3054],\n",
              "          [-0.0364,  0.0085, -0.3584,  ...,  0.3511,  0.7024,  0.3580],\n",
              "          [ 0.0684,  0.0374, -0.1808,  ..., -0.0152,  0.3415,  0.1817],\n",
              "          ...,\n",
              "          [ 0.0522,  0.3024,  0.2962,  ...,  0.5844,  0.3802, -0.4355],\n",
              "          [ 0.1086, -0.2923,  0.1490,  ...,  0.6469,  0.1534,  0.6340],\n",
              "          [-0.2239,  0.2765,  0.1440,  ..., -0.0028,  0.2753,  0.1630]]]],\n",
              "       grad_fn=<ConvolutionBackward0>)"
            ]
          },
          "metadata": {},
          "execution_count": 69
        }
      ]
    },
    {
      "cell_type": "code",
      "source": [
        "import torch\n",
        "import torch.nn as nn\n",
        "\n",
        "class batchnorm_relu(nn.Module):\n",
        "    def __init__(self, in_c):\n",
        "        super().__init__()\n",
        "\n",
        "        self.bn = nn.BatchNorm2d(in_c)\n",
        "        self.relu = nn.ReLU()\n",
        "\n",
        "    def forward(self, inputs):\n",
        "        x = self.bn(inputs)\n",
        "        x = self.relu(x)\n",
        "        return x\n",
        "\n",
        "class residual_block(nn.Module):\n",
        "    def __init__(self, in_c, out_c, stride=1):\n",
        "        super().__init__()\n",
        "\n",
        "        \"\"\" Convolutional layer \"\"\"\n",
        "        self.b1 = batchnorm_relu(in_c)\n",
        "        self.c1 = nn.Conv2d(in_c, out_c, kernel_size=3, padding=1, stride=stride)\n",
        "        self.b2 = batchnorm_relu(out_c)\n",
        "        self.c2 = nn.Conv2d(out_c, out_c, kernel_size=3, padding=1, stride=1)\n",
        "\n",
        "        \"\"\" Shortcut Connection (Identity Mapping) \"\"\"\n",
        "        self.s = nn.Conv2d(in_c, out_c, kernel_size=1, padding=0, stride=stride)\n",
        "\n",
        "    def forward(self, inputs):\n",
        "        x = self.b1(inputs)\n",
        "        x = self.c1(x)\n",
        "        x = self.b2(x)\n",
        "        x = self.c2(x)\n",
        "        s = self.s(inputs)\n",
        "\n",
        "        skip = x + s\n",
        "        return skip\n",
        "\n",
        "class decoder_block(nn.Module):\n",
        "    def __init__(self, in_c, out_c):\n",
        "        super().__init__()\n",
        "\n",
        "        self.upsample = nn.Upsample(scale_factor=2, mode=\"bilinear\", align_corners=True)\n",
        "        self.r = residual_block(in_c+out_c, out_c)\n",
        "\n",
        "    def forward(self, inputs, skip):\n",
        "        x = self.upsample(inputs)\n",
        "        x = torch.cat([x, skip], axis=1)\n",
        "        x = self.r(x)\n",
        "        return x\n",
        "\n",
        "class build_resunet(nn.Module):\n",
        "    def __init__(self):\n",
        "        super().__init__()\n",
        "\n",
        "        \"\"\" Encoder 1 \"\"\"\n",
        "        self.c11 = nn.Conv2d(3, 64, kernel_size=3, padding=1)\n",
        "        self.br1 = batchnorm_relu(64)\n",
        "        self.c12 = nn.Conv2d(64, 64, kernel_size=3, padding=1)\n",
        "        self.c13 = nn.Conv2d(3, 64, kernel_size=1, padding=0)\n",
        "\n",
        "        \"\"\" Encoder 2 and 3 \"\"\"\n",
        "        self.r2 = residual_block(64, 128, stride=2)\n",
        "        self.r3 = residual_block(128, 256, stride=2)\n",
        "\n",
        "        \"\"\" Bridge \"\"\"\n",
        "        self.r4 = residual_block(256, 512, stride=2)\n",
        "\n",
        "        \"\"\" Decoder \"\"\"\n",
        "        self.d1 = decoder_block(512, 256)\n",
        "        self.d2 = decoder_block(256, 128)\n",
        "        self.d3 = decoder_block(128, 64)\n",
        "\n",
        "        \"\"\" Output \"\"\"\n",
        "        self.output = nn.Conv2d(64, 4, kernel_size=1, padding=0)\n",
        "        self.sigmoid = nn.Sigmoid()\n",
        "\n",
        "    def forward(self, inputs):\n",
        "        \"\"\" Encoder 1 \"\"\"\n",
        "        x = self.c11(inputs)\n",
        "        x = self.br1(x)\n",
        "        x = self.c12(x)\n",
        "        s = self.c13(inputs)\n",
        "        skip1 = x + s\n",
        "\n",
        "        \"\"\" Encoder 2 and 3 \"\"\"\n",
        "        skip2 = self.r2(skip1)\n",
        "        skip3 = self.r3(skip2)\n",
        "\n",
        "        \"\"\" Bridge \"\"\"\n",
        "        b = self.r4(skip3)\n",
        "\n",
        "        \"\"\" Decoder \"\"\"\n",
        "        d1 = self.d1(b, skip3)\n",
        "        d2 = self.d2(d1, skip2)\n",
        "        d3 = self.d3(d2, skip1)\n",
        "\n",
        "        \"\"\" output \"\"\"\n",
        "        output = self.output(d3)\n",
        "        #output = self.sigmoid(output)\n",
        "\n",
        "        return output\n"
      ],
      "metadata": {
        "id": "zEUjk0dQauYD"
      },
      "execution_count": null,
      "outputs": []
    },
    {
      "cell_type": "code",
      "execution_count": 132,
      "metadata": {
        "id": "8mbnB0BYU3Dv"
      },
      "outputs": [],
      "source": [
        "DEVICE = \"cuda\" if torch.cuda.is_available() else \"cpu\"\n"
      ]
    },
    {
      "cell_type": "code",
      "execution_count": 133,
      "metadata": {
        "id": "IDnuYRNBU4x_"
      },
      "outputs": [],
      "source": [
        "model = mobileNetV2().to(DEVICE)#unet_model(out_channels=4).to(DEVICE)#attention_unet().to(DEVICE) #unet_model(out_channels=4).to(DEVICE)"
      ]
    },
    {
      "cell_type": "code",
      "execution_count": null,
      "metadata": {
        "id": "zM6Hs81mU7AJ"
      },
      "outputs": [],
      "source": [
        "from torchsummary import summary\n",
        "summary(model, (3, 256, 256))"
      ]
    },
    {
      "cell_type": "code",
      "execution_count": 134,
      "metadata": {
        "id": "arz2wuxKVXyX"
      },
      "outputs": [],
      "source": [
        "LEARNING_RATE = 1e-4\n",
        "num_epochs = 40"
      ]
    },
    {
      "cell_type": "code",
      "execution_count": 135,
      "metadata": {
        "id": "aFyuGc6FVZkl"
      },
      "outputs": [],
      "source": [
        "loss_fn = nn.CrossEntropyLoss()\n",
        "optimizer = Adam(model.parameters(), lr=LEARNING_RATE)\n",
        "scaler = torch.cuda.amp.GradScaler()"
      ]
    },
    {
      "cell_type": "code",
      "execution_count": 136,
      "metadata": {
        "id": "sKECzWt1LqKN"
      },
      "outputs": [],
      "source": [
        "def diceLoss(pred, y_):\n",
        "    eps = 1e-7\n",
        "    beta = 1\n",
        "    #print(\"pred: \",torch.unique(pred))\n",
        "    #print(\"org:\",torch.unique(y_))\n",
        "    softmax = nn.Softmax(dim=1)\n",
        "    pred = softmax(pred)\n",
        "    #print(\"pred: \",torch.unique(pred))\n",
        "    tp = torch.sum(pred*y_)\n",
        "    fp = torch.sum(pred) - tp\n",
        "    fn = torch.sum(y_) - tp\n",
        "\n",
        "    score = (2*tp + eps)/(2*tp+beta**2*fn+fp+eps)\n",
        "    return (1 - score)\n"
      ]
    },
    {
      "cell_type": "code",
      "execution_count": 137,
      "metadata": {
        "id": "mUL4k9bhvjmf"
      },
      "outputs": [],
      "source": [
        "from torchmetrics import JaccardIndex\n",
        "\n",
        "def check_accuracy(loader, model):\n",
        "    num_correct = 0\n",
        "    num_pixels = 0\n",
        "    dice_score = 0\n",
        "    model.eval()\n",
        "    meanIOU = 0\n",
        "\n",
        "    with torch.no_grad():\n",
        "        for x, y in loader:\n",
        "            x = x.to(DEVICE)\n",
        "            y = y.to(DEVICE)\n",
        "            #print(y)\n",
        "            #return y\n",
        "            softmax = nn.Softmax(dim=1)\n",
        "            preds = torch.argmax(softmax(model(x)),axis=1)\n",
        "            y = torch.argmax(softmax(y),axis=1)\n",
        "            #print(preds.shape)\n",
        "            #print(y.shape)\n",
        "            num_correct += (preds == y).sum()\n",
        "            num_pixels += torch.numel(preds)\n",
        "            dice_score += (2 * (preds * y).sum()) / ((preds + y).sum() + 1e-8)\n",
        "            jaccard = JaccardIndex(task='multiclass',num_classes=4).to(DEVICE)\n",
        "            IOU = jaccard(preds, y)\n",
        "            meanIOU = meanIOU + IOU\n",
        "\n",
        "    print(f\"Got {num_correct}/{num_pixels} with acc {num_correct/num_pixels*100:.2f}\")\n",
        "    print(f\"Dice score: {dice_score/len(loader)}\")\n",
        "    print(f\"Mean IOU: {meanIOU/len(loader)}\")\n",
        "    model.train()\n",
        "    return (meanIOU/len(loader))"
      ]
    },
    {
      "cell_type": "code",
      "execution_count": 140,
      "metadata": {
        "id": "s6dr9m7plb2L",
        "colab": {
          "base_uri": "https://localhost:8080/"
        },
        "outputId": "f54a5927-4103-49b2-84b0-ad46502f9f16"
      },
      "outputs": [
        {
          "output_type": "stream",
          "name": "stdout",
          "text": [
            "epoch: 0\n"
          ]
        },
        {
          "output_type": "stream",
          "name": "stderr",
          "text": [
            "100%|██████████| 200/200 [00:20<00:00,  9.53it/s, loss=0.0252]\n"
          ]
        },
        {
          "output_type": "stream",
          "name": "stdout",
          "text": [
            "Got 20567209/20971520 with acc 98.07\n",
            "Dice score: 1.9882233142852783\n",
            "Mean IOU: 0.9194796681404114\n",
            "modelSaved\n",
            "epoch: 1\n"
          ]
        },
        {
          "output_type": "stream",
          "name": "stderr",
          "text": [
            "100%|██████████| 200/200 [00:19<00:00, 10.14it/s, loss=0.0265]\n"
          ]
        },
        {
          "output_type": "stream",
          "name": "stdout",
          "text": [
            "Got 20572248/20971520 with acc 98.10\n",
            "Dice score: 1.9877277612686157\n",
            "Mean IOU: 0.9215928316116333\n",
            "modelSaved\n",
            "epoch: 2\n"
          ]
        },
        {
          "output_type": "stream",
          "name": "stderr",
          "text": [
            "100%|██████████| 200/200 [00:19<00:00, 10.04it/s, loss=0.0217]\n"
          ]
        },
        {
          "output_type": "stream",
          "name": "stdout",
          "text": [
            "Got 20586934/20971520 with acc 98.17\n",
            "Dice score: 1.9888336658477783\n",
            "Mean IOU: 0.9225634932518005\n",
            "modelSaved\n",
            "epoch: 3\n"
          ]
        },
        {
          "output_type": "stream",
          "name": "stderr",
          "text": [
            "100%|██████████| 200/200 [00:20<00:00,  9.75it/s, loss=0.0201]\n"
          ]
        },
        {
          "output_type": "stream",
          "name": "stdout",
          "text": [
            "Got 20594539/20971520 with acc 98.20\n",
            "Dice score: 1.9886738061904907\n",
            "Mean IOU: 0.9253796935081482\n",
            "modelSaved\n",
            "epoch: 4\n"
          ]
        },
        {
          "output_type": "stream",
          "name": "stderr",
          "text": [
            "100%|██████████| 200/200 [00:19<00:00, 10.13it/s, loss=0.0232]\n"
          ]
        },
        {
          "output_type": "stream",
          "name": "stdout",
          "text": [
            "Got 20594623/20971520 with acc 98.20\n",
            "Dice score: 1.9886187314987183\n",
            "Mean IOU: 0.9234496355056763\n",
            "epoch: 5\n"
          ]
        },
        {
          "output_type": "stream",
          "name": "stderr",
          "text": [
            "100%|██████████| 200/200 [00:20<00:00,  9.94it/s, loss=0.0223]\n"
          ]
        },
        {
          "output_type": "stream",
          "name": "stdout",
          "text": [
            "Got 20589722/20971520 with acc 98.18\n",
            "Dice score: 1.9889326095581055\n",
            "Mean IOU: 0.9244787096977234\n",
            "epoch: 6\n"
          ]
        },
        {
          "output_type": "stream",
          "name": "stderr",
          "text": [
            "100%|██████████| 200/200 [00:20<00:00,  9.84it/s, loss=0.0232]\n"
          ]
        },
        {
          "output_type": "stream",
          "name": "stdout",
          "text": [
            "Got 20586764/20971520 with acc 98.17\n",
            "Dice score: 1.987653374671936\n",
            "Mean IOU: 0.9232603907585144\n",
            "epoch: 7\n"
          ]
        },
        {
          "output_type": "stream",
          "name": "stderr",
          "text": [
            "100%|██████████| 200/200 [00:19<00:00, 10.20it/s, loss=0.0224]\n"
          ]
        },
        {
          "output_type": "stream",
          "name": "stdout",
          "text": [
            "Got 20605386/20971520 with acc 98.25\n",
            "Dice score: 1.9879435300827026\n",
            "Mean IOU: 0.9263378977775574\n",
            "modelSaved\n",
            "epoch: 8\n"
          ]
        },
        {
          "output_type": "stream",
          "name": "stderr",
          "text": [
            "100%|██████████| 200/200 [00:20<00:00,  9.88it/s, loss=0.0191]\n"
          ]
        },
        {
          "output_type": "stream",
          "name": "stdout",
          "text": [
            "Got 20608063/20971520 with acc 98.27\n",
            "Dice score: 1.9890769720077515\n",
            "Mean IOU: 0.9245777130126953\n",
            "epoch: 9\n"
          ]
        },
        {
          "output_type": "stream",
          "name": "stderr",
          "text": [
            "100%|██████████| 200/200 [00:19<00:00, 10.29it/s, loss=0.0218]\n"
          ]
        },
        {
          "output_type": "stream",
          "name": "stdout",
          "text": [
            "Got 20615115/20971520 with acc 98.30\n",
            "Dice score: 1.989118218421936\n",
            "Mean IOU: 0.9295960664749146\n",
            "modelSaved\n",
            "epoch: 10\n"
          ]
        },
        {
          "output_type": "stream",
          "name": "stderr",
          "text": [
            "100%|██████████| 200/200 [00:19<00:00, 10.13it/s, loss=0.0222]\n"
          ]
        },
        {
          "output_type": "stream",
          "name": "stdout",
          "text": [
            "Got 20612146/20971520 with acc 98.29\n",
            "Dice score: 1.9885462522506714\n",
            "Mean IOU: 0.9271628260612488\n",
            "epoch: 11\n"
          ]
        },
        {
          "output_type": "stream",
          "name": "stderr",
          "text": [
            "100%|██████████| 200/200 [00:20<00:00,  9.88it/s, loss=0.0188]\n"
          ]
        },
        {
          "output_type": "stream",
          "name": "stdout",
          "text": [
            "Got 20629673/20971520 with acc 98.37\n",
            "Dice score: 1.989823579788208\n",
            "Mean IOU: 0.9320128560066223\n",
            "modelSaved\n",
            "epoch: 12\n"
          ]
        },
        {
          "output_type": "stream",
          "name": "stderr",
          "text": [
            "100%|██████████| 200/200 [00:19<00:00, 10.22it/s, loss=0.0201]\n"
          ]
        },
        {
          "output_type": "stream",
          "name": "stdout",
          "text": [
            "Got 20616719/20971520 with acc 98.31\n",
            "Dice score: 1.9880250692367554\n",
            "Mean IOU: 0.9300462007522583\n",
            "epoch: 13\n"
          ]
        },
        {
          "output_type": "stream",
          "name": "stderr",
          "text": [
            "100%|██████████| 200/200 [00:20<00:00,  9.81it/s, loss=0.0164]\n"
          ]
        },
        {
          "output_type": "stream",
          "name": "stdout",
          "text": [
            "Got 20621771/20971520 with acc 98.33\n",
            "Dice score: 1.9883953332901\n",
            "Mean IOU: 0.9233679175376892\n",
            "epoch: 14\n"
          ]
        },
        {
          "output_type": "stream",
          "name": "stderr",
          "text": [
            "100%|██████████| 200/200 [00:20<00:00,  9.79it/s, loss=0.0168]\n"
          ]
        },
        {
          "output_type": "stream",
          "name": "stdout",
          "text": [
            "Got 20635874/20971520 with acc 98.40\n",
            "Dice score: 1.9893203973770142\n",
            "Mean IOU: 0.9318580031394958\n",
            "epoch: 15\n"
          ]
        },
        {
          "output_type": "stream",
          "name": "stderr",
          "text": [
            "100%|██████████| 200/200 [00:20<00:00, 10.00it/s, loss=0.0233]\n"
          ]
        },
        {
          "output_type": "stream",
          "name": "stdout",
          "text": [
            "Got 20626068/20971520 with acc 98.35\n",
            "Dice score: 1.9882458448410034\n",
            "Mean IOU: 0.9301913380622864\n",
            "epoch: 16\n"
          ]
        },
        {
          "output_type": "stream",
          "name": "stderr",
          "text": [
            "100%|██████████| 200/200 [00:20<00:00,  9.81it/s, loss=0.0179]\n"
          ]
        },
        {
          "output_type": "stream",
          "name": "stdout",
          "text": [
            "Got 20634331/20971520 with acc 98.39\n",
            "Dice score: 1.9890104532241821\n",
            "Mean IOU: 0.9327576756477356\n",
            "modelSaved\n",
            "epoch: 17\n"
          ]
        },
        {
          "output_type": "stream",
          "name": "stderr",
          "text": [
            "100%|██████████| 200/200 [00:19<00:00, 10.10it/s, loss=0.021]\n"
          ]
        },
        {
          "output_type": "stream",
          "name": "stdout",
          "text": [
            "Got 20609368/20971520 with acc 98.27\n",
            "Dice score: 1.9862768650054932\n",
            "Mean IOU: 0.9261856079101562\n",
            "epoch: 18\n"
          ]
        },
        {
          "output_type": "stream",
          "name": "stderr",
          "text": [
            "100%|██████████| 200/200 [00:19<00:00, 10.12it/s, loss=0.016]\n"
          ]
        },
        {
          "output_type": "stream",
          "name": "stdout",
          "text": [
            "Got 20658183/20971520 with acc 98.51\n",
            "Dice score: 1.9896490573883057\n",
            "Mean IOU: 0.9362396597862244\n",
            "modelSaved\n",
            "epoch: 19\n"
          ]
        },
        {
          "output_type": "stream",
          "name": "stderr",
          "text": [
            "100%|██████████| 200/200 [00:20<00:00,  9.77it/s, loss=0.0161]\n"
          ]
        },
        {
          "output_type": "stream",
          "name": "stdout",
          "text": [
            "Got 20656286/20971520 with acc 98.50\n",
            "Dice score: 1.9904016256332397\n",
            "Mean IOU: 0.9348114132881165\n",
            "epoch: 20\n"
          ]
        },
        {
          "output_type": "stream",
          "name": "stderr",
          "text": [
            "100%|██████████| 200/200 [00:19<00:00, 10.15it/s, loss=0.0166]\n"
          ]
        },
        {
          "output_type": "stream",
          "name": "stdout",
          "text": [
            "Got 20647284/20971520 with acc 98.45\n",
            "Dice score: 1.98846435546875\n",
            "Mean IOU: 0.9354033470153809\n",
            "epoch: 21\n"
          ]
        },
        {
          "output_type": "stream",
          "name": "stderr",
          "text": [
            "100%|██████████| 200/200 [00:20<00:00,  9.86it/s, loss=0.02]\n"
          ]
        },
        {
          "output_type": "stream",
          "name": "stdout",
          "text": [
            "Got 20651870/20971520 with acc 98.48\n",
            "Dice score: 1.9886261224746704\n",
            "Mean IOU: 0.9352491497993469\n",
            "epoch: 22\n"
          ]
        },
        {
          "output_type": "stream",
          "name": "stderr",
          "text": [
            "100%|██████████| 200/200 [00:20<00:00,  9.93it/s, loss=0.0174]\n"
          ]
        },
        {
          "output_type": "stream",
          "name": "stdout",
          "text": [
            "Got 20660412/20971520 with acc 98.52\n",
            "Dice score: 1.9888525009155273\n",
            "Mean IOU: 0.937405526638031\n",
            "modelSaved\n",
            "epoch: 23\n"
          ]
        },
        {
          "output_type": "stream",
          "name": "stderr",
          "text": [
            "100%|██████████| 200/200 [00:19<00:00, 10.24it/s, loss=0.0188]\n"
          ]
        },
        {
          "output_type": "stream",
          "name": "stdout",
          "text": [
            "Got 20656888/20971520 with acc 98.50\n",
            "Dice score: 1.9889707565307617\n",
            "Mean IOU: 0.9375545382499695\n",
            "modelSaved\n",
            "epoch: 24\n"
          ]
        },
        {
          "output_type": "stream",
          "name": "stderr",
          "text": [
            "100%|██████████| 200/200 [00:20<00:00,  9.76it/s, loss=0.0205]\n"
          ]
        },
        {
          "output_type": "stream",
          "name": "stdout",
          "text": [
            "Got 20666283/20971520 with acc 98.54\n",
            "Dice score: 1.989636778831482\n",
            "Mean IOU: 0.9398710131645203\n",
            "modelSaved\n",
            "epoch: 25\n"
          ]
        },
        {
          "output_type": "stream",
          "name": "stderr",
          "text": [
            "100%|██████████| 200/200 [00:19<00:00, 10.14it/s, loss=0.0128]\n"
          ]
        },
        {
          "output_type": "stream",
          "name": "stdout",
          "text": [
            "Got 20672250/20971520 with acc 98.57\n",
            "Dice score: 1.9895180463790894\n",
            "Mean IOU: 0.9401832818984985\n",
            "modelSaved\n",
            "epoch: 26\n"
          ]
        },
        {
          "output_type": "stream",
          "name": "stderr",
          "text": [
            "100%|██████████| 200/200 [00:19<00:00, 10.07it/s, loss=0.0154]\n"
          ]
        },
        {
          "output_type": "stream",
          "name": "stdout",
          "text": [
            "Got 20683075/20971520 with acc 98.62\n",
            "Dice score: 1.9896513223648071\n",
            "Mean IOU: 0.941541314125061\n",
            "modelSaved\n",
            "epoch: 27\n"
          ]
        },
        {
          "output_type": "stream",
          "name": "stderr",
          "text": [
            "100%|██████████| 200/200 [00:20<00:00,  9.79it/s, loss=0.0301]\n"
          ]
        },
        {
          "output_type": "stream",
          "name": "stdout",
          "text": [
            "Got 20605543/20971520 with acc 98.25\n",
            "Dice score: 1.9884998798370361\n",
            "Mean IOU: 0.9299700856208801\n",
            "epoch: 28\n"
          ]
        },
        {
          "output_type": "stream",
          "name": "stderr",
          "text": [
            "100%|██████████| 200/200 [00:19<00:00, 10.15it/s, loss=0.0137]\n"
          ]
        },
        {
          "output_type": "stream",
          "name": "stdout",
          "text": [
            "Got 20679449/20971520 with acc 98.61\n",
            "Dice score: 1.9895365238189697\n",
            "Mean IOU: 0.9420532584190369\n",
            "modelSaved\n",
            "epoch: 29\n"
          ]
        },
        {
          "output_type": "stream",
          "name": "stderr",
          "text": [
            "100%|██████████| 200/200 [00:20<00:00,  9.92it/s, loss=0.0137]\n"
          ]
        },
        {
          "output_type": "stream",
          "name": "stdout",
          "text": [
            "Got 20679822/20971520 with acc 98.61\n",
            "Dice score: 1.9905149936676025\n",
            "Mean IOU: 0.9409249424934387\n",
            "epoch: 30\n"
          ]
        },
        {
          "output_type": "stream",
          "name": "stderr",
          "text": [
            "100%|██████████| 200/200 [00:20<00:00,  9.99it/s, loss=0.0126]\n"
          ]
        },
        {
          "output_type": "stream",
          "name": "stdout",
          "text": [
            "Got 20694055/20971520 with acc 98.68\n",
            "Dice score: 1.9903262853622437\n",
            "Mean IOU: 0.9447709918022156\n",
            "modelSaved\n",
            "epoch: 31\n"
          ]
        },
        {
          "output_type": "stream",
          "name": "stderr",
          "text": [
            "100%|██████████| 200/200 [00:19<00:00, 10.17it/s, loss=0.015]\n"
          ]
        },
        {
          "output_type": "stream",
          "name": "stdout",
          "text": [
            "Got 20657953/20971520 with acc 98.50\n",
            "Dice score: 1.9891138076782227\n",
            "Mean IOU: 0.9392223358154297\n",
            "epoch: 32\n"
          ]
        },
        {
          "output_type": "stream",
          "name": "stderr",
          "text": [
            "100%|██████████| 200/200 [00:20<00:00,  9.83it/s, loss=0.0147]\n"
          ]
        },
        {
          "output_type": "stream",
          "name": "stdout",
          "text": [
            "Got 20671318/20971520 with acc 98.57\n",
            "Dice score: 1.9878818988800049\n",
            "Mean IOU: 0.9393518567085266\n",
            "epoch: 33\n"
          ]
        },
        {
          "output_type": "stream",
          "name": "stderr",
          "text": [
            "100%|██████████| 200/200 [00:19<00:00, 10.14it/s, loss=0.015]\n"
          ]
        },
        {
          "output_type": "stream",
          "name": "stdout",
          "text": [
            "Got 20710884/20971520 with acc 98.76\n",
            "Dice score: 1.9903799295425415\n",
            "Mean IOU: 0.9468361139297485\n",
            "modelSaved\n",
            "epoch: 34\n"
          ]
        },
        {
          "output_type": "stream",
          "name": "stderr",
          "text": [
            "100%|██████████| 200/200 [00:19<00:00, 10.02it/s, loss=0.0164]\n"
          ]
        },
        {
          "output_type": "stream",
          "name": "stdout",
          "text": [
            "Got 20683311/20971520 with acc 98.63\n",
            "Dice score: 1.9885977506637573\n",
            "Mean IOU: 0.941594123840332\n",
            "epoch: 35\n"
          ]
        },
        {
          "output_type": "stream",
          "name": "stderr",
          "text": [
            "100%|██████████| 200/200 [00:20<00:00,  9.89it/s, loss=0.0132]\n"
          ]
        },
        {
          "output_type": "stream",
          "name": "stdout",
          "text": [
            "Got 20703298/20971520 with acc 98.72\n",
            "Dice score: 1.990272879600525\n",
            "Mean IOU: 0.9469969868659973\n",
            "modelSaved\n",
            "epoch: 36\n"
          ]
        },
        {
          "output_type": "stream",
          "name": "stderr",
          "text": [
            "100%|██████████| 200/200 [00:19<00:00, 10.16it/s, loss=0.0138]\n"
          ]
        },
        {
          "output_type": "stream",
          "name": "stdout",
          "text": [
            "Got 20717193/20971520 with acc 98.79\n",
            "Dice score: 1.9900633096694946\n",
            "Mean IOU: 0.9480493664741516\n",
            "modelSaved\n",
            "epoch: 37\n"
          ]
        },
        {
          "output_type": "stream",
          "name": "stderr",
          "text": [
            "100%|██████████| 200/200 [00:20<00:00,  9.87it/s, loss=0.0121]\n"
          ]
        },
        {
          "output_type": "stream",
          "name": "stdout",
          "text": [
            "Got 20715913/20971520 with acc 98.78\n",
            "Dice score: 1.9896351099014282\n",
            "Mean IOU: 0.9479711651802063\n",
            "epoch: 38\n"
          ]
        },
        {
          "output_type": "stream",
          "name": "stderr",
          "text": [
            "100%|██████████| 200/200 [00:19<00:00, 10.01it/s, loss=0.0152]\n"
          ]
        },
        {
          "output_type": "stream",
          "name": "stdout",
          "text": [
            "Got 20718736/20971520 with acc 98.79\n",
            "Dice score: 1.9915412664413452\n",
            "Mean IOU: 0.9482424855232239\n",
            "modelSaved\n",
            "epoch: 39\n"
          ]
        },
        {
          "output_type": "stream",
          "name": "stderr",
          "text": [
            "100%|██████████| 200/200 [00:19<00:00, 10.21it/s, loss=0.0133]\n"
          ]
        },
        {
          "output_type": "stream",
          "name": "stdout",
          "text": [
            "Got 20703842/20971520 with acc 98.72\n",
            "Dice score: 1.9888943433761597\n",
            "Mean IOU: 0.9459635615348816\n"
          ]
        }
      ],
      "source": [
        "mean_IOU = 0\n",
        "for epoch in range(num_epochs):\n",
        "    print(\"epoch:\", epoch)  \n",
        "    loop = tqdm(enumerate(train_batch),total=len(train_batch))\n",
        "    count = 0\n",
        "\n",
        "    for batch_idx, (data, targets) in loop:\n",
        "        count = count  + 1 \n",
        "        data = data.to(DEVICE)\n",
        "        targets = targets.to(DEVICE)\n",
        "        #targets = targets.type(torch.long)\n",
        "        #print(\"data:\",data.shape)\n",
        "        #print(\"target shape:\", targets.shape)\n",
        "        # forward\n",
        "        with torch.cuda.amp.autocast():\n",
        "            predictions = model(data)\n",
        "            #targets = targets.type(torch.long)\n",
        "            #print(\"predictions:\",predictions)\n",
        "            #print(\"predictions:\",predictions.shape)\n",
        "            #print(\"target:\",targets.shape)\n",
        "            loss = diceLoss(predictions, targets)\n",
        "            #loss = Variable(loss, requires_grad = True)\n",
        "        # backward\n",
        "        optimizer.zero_grad()\n",
        "        scaler.scale(loss).backward()\n",
        "        scaler.step(optimizer)\n",
        "        scaler.update()\n",
        "        # update tqdm loop\n",
        "        loop.set_postfix(loss=loss.item())   \n",
        "    IOU = check_accuracy(test_batch,model)\n",
        "    if mean_IOU < IOU:\n",
        "        mean_IOU = IOU\n",
        "        #torch.save(model, 'best_epoch.pth')\n",
        "        print(\"modelSaved\")\n",
        "    "
      ]
    },
    {
      "cell_type": "code",
      "execution_count": null,
      "metadata": {
        "id": "K-FCMhXRiRWo"
      },
      "outputs": [],
      "source": []
    },
    {
      "cell_type": "code",
      "execution_count": null,
      "metadata": {
        "id": "4CuK56erbyyv"
      },
      "outputs": [],
      "source": [
        "def _take_channels(*xs,ignore_channels=None):\n",
        "  if ignore_channels is None:\n",
        "    return xs\n",
        "  else:\n",
        "    channels = [channel for channel in range(xs[0].shape[1]) if channel not in ignore_channels]  \n",
        "    xs = [torch.index_select(x,dim=1,index=torch.tensor(channels).to(x)) for x in xs]\n",
        "    return xs\n",
        "\n",
        "def _threshold(x ,threshold=None):\n",
        "  if threshold is not None:\n",
        "    return (x>threshold).type(x.dtype)\n",
        "  else:\n",
        "    return x  \n",
        "\n",
        "\n",
        "def IOU_(pr,gt,eps=1e-7,threshold=None,ignore_channels=None):\n",
        "  pr = _threshold(pr,threshold=threshold)\n",
        "  pr,gt = _take_channels(pr,gt,ignore_channels=ignore_channels)\n",
        "\n",
        "  intersection = torch.sum(gt*pr)\n",
        "  union = torch.sum(gt) + torch.sum(pr) - intersection +eps\n",
        "\n",
        "  return (intersection+eps)/union"
      ]
    },
    {
      "cell_type": "code",
      "execution_count": null,
      "metadata": {
        "id": "jHxP96aFbynw"
      },
      "outputs": [],
      "source": [
        "from torchmetrics import JaccardIndex\n",
        "\n",
        "def check_accuracy_(loader, model):\n",
        "    num_correct = 0\n",
        "    num_pixels = 0\n",
        "    dice_score = 0\n",
        "    model.eval()\n",
        "    meanIOU = 0\n",
        "    iou_c0 = 0\n",
        "    iou_c1 = 0\n",
        "    iou_c2 = 0\n",
        "    iou_c3 = 0\n",
        "    with torch.no_grad():\n",
        "        for x, y in loader:\n",
        "            x = x.to(DEVICE)\n",
        "            y = y.to(DEVICE)\n",
        "            #print(y)\n",
        "            #return y\n",
        "\n",
        "            softmax = nn.Softmax(dim=1)\n",
        "            #individual IOU\n",
        "            pr = softmax(model(x))\n",
        "            gt = x\n",
        "            \n",
        "            iou_c0 += IOU_(pr,gt,threshold=0.5,ignore_channels=[1,2,3])\n",
        "            iou_c1 += IOU_(pr,gt,threshold=0.5,ignore_channels=[0,2,3])\n",
        "            iou_c2 += IOU_(pr,gt,threshold=0.5,ignore_channels=[0,1,3])\n",
        "            iou_c3 += IOU_(pr,gt,threshold=0.5,ignore_channels=[0,1,2])\n",
        "\n",
        "            preds = torch.argmax(softmax(model(x)),axis=1)\n",
        "            y = torch.argmax(softmax(y),axis=1)\n",
        "            #print(preds.shape)\n",
        "            #print(y.shape)\n",
        "            num_correct += (preds == y).sum()\n",
        "            num_pixels += torch.numel(preds)\n",
        "            dice_score += (2 * (preds * y).sum()) / ((preds + y).sum() + 1e-8)\n",
        "            jaccard = JaccardIndex(task='multiclass',num_classes=4).to(DEVICE)\n",
        "            max = torch.max(y)\n",
        "            IOU = jaccard(preds, y)\n",
        "            meanIOU = meanIOU + IOU\n",
        "\n",
        "    print(f\"Got {num_correct}/{num_pixels} with acc {num_correct/num_pixels*100:.2f}\")\n",
        "    print(f\"Dice score: {dice_score/len(loader)}\")\n",
        "    print(f\"Mean IOU: {meanIOU/len(loader)}\")\n",
        "    print(f\"Mean IOU: {iou_c0/len(loader)}\")\n",
        "    print(f\"Mean IOU: {iou_c1/len(loader)}\")\n",
        "    print(f\"Mean IOU: {iou_c2/len(loader)}\")\n",
        "    print(f\"Mean IOU: {iou_c3/len(loader)}\")\n",
        "    model.train()"
      ]
    },
    {
      "cell_type": "code",
      "execution_count": null,
      "metadata": {
        "id": "1O05Cl1_g-ND",
        "colab": {
          "base_uri": "https://localhost:8080/"
        },
        "outputId": "45dddce1-0bc6-49c6-ebf2-fdd1ce4a1745"
      },
      "outputs": [
        {
          "output_type": "stream",
          "name": "stdout",
          "text": [
            "Looking in indexes: https://pypi.org/simple, https://us-python.pkg.dev/colab-wheels/public/simple/\n",
            "Collecting torchmetrics\n",
            "  Downloading torchmetrics-0.11.4-py3-none-any.whl (519 kB)\n",
            "\u001b[2K     \u001b[90m━━━━━━━━━━━━━━━━━━━━━━━━━━━━━━━━━━━━━━\u001b[0m \u001b[32m519.2/519.2 kB\u001b[0m \u001b[31m14.4 MB/s\u001b[0m eta \u001b[36m0:00:00\u001b[0m\n",
            "\u001b[?25hRequirement already satisfied: numpy>=1.17.2 in /usr/local/lib/python3.10/dist-packages (from torchmetrics) (1.22.4)\n",
            "Requirement already satisfied: torch>=1.8.1 in /usr/local/lib/python3.10/dist-packages (from torchmetrics) (2.0.1+cu118)\n",
            "Requirement already satisfied: packaging in /usr/local/lib/python3.10/dist-packages (from torchmetrics) (23.1)\n",
            "Requirement already satisfied: filelock in /usr/local/lib/python3.10/dist-packages (from torch>=1.8.1->torchmetrics) (3.12.0)\n",
            "Requirement already satisfied: typing-extensions in /usr/local/lib/python3.10/dist-packages (from torch>=1.8.1->torchmetrics) (4.5.0)\n",
            "Requirement already satisfied: sympy in /usr/local/lib/python3.10/dist-packages (from torch>=1.8.1->torchmetrics) (1.11.1)\n",
            "Requirement already satisfied: networkx in /usr/local/lib/python3.10/dist-packages (from torch>=1.8.1->torchmetrics) (3.1)\n",
            "Requirement already satisfied: jinja2 in /usr/local/lib/python3.10/dist-packages (from torch>=1.8.1->torchmetrics) (3.1.2)\n",
            "Requirement already satisfied: triton==2.0.0 in /usr/local/lib/python3.10/dist-packages (from torch>=1.8.1->torchmetrics) (2.0.0)\n",
            "Requirement already satisfied: cmake in /usr/local/lib/python3.10/dist-packages (from triton==2.0.0->torch>=1.8.1->torchmetrics) (3.25.2)\n",
            "Requirement already satisfied: lit in /usr/local/lib/python3.10/dist-packages (from triton==2.0.0->torch>=1.8.1->torchmetrics) (16.0.5)\n",
            "Requirement already satisfied: MarkupSafe>=2.0 in /usr/local/lib/python3.10/dist-packages (from jinja2->torch>=1.8.1->torchmetrics) (2.1.2)\n",
            "Requirement already satisfied: mpmath>=0.19 in /usr/local/lib/python3.10/dist-packages (from sympy->torch>=1.8.1->torchmetrics) (1.3.0)\n",
            "Installing collected packages: torchmetrics\n",
            "Successfully installed torchmetrics-0.11.4\n"
          ]
        }
      ],
      "source": [
        "!pip install torchmetrics"
      ]
    },
    {
      "cell_type": "markdown",
      "source": [],
      "metadata": {
        "id": "JXwJLw9HwSPU"
      }
    },
    {
      "cell_type": "code",
      "execution_count": null,
      "metadata": {
        "id": "rBIxbIXkcug-",
        "colab": {
          "base_uri": "https://localhost:8080/"
        },
        "outputId": "ae1426a9-fdac-4973-bffd-bd330bd150fe"
      },
      "outputs": [
        {
          "output_type": "stream",
          "name": "stdout",
          "text": [
            "Got 5103744/5242880 with acc 97.35\n",
            "Dice score: 1.9914945363998413\n",
            "Mean IOU: 0.8921363949775696\n"
          ]
        },
        {
          "output_type": "execute_result",
          "data": {
            "text/plain": [
              "tensor(0.8921, device='cuda:0')"
            ]
          },
          "metadata": {},
          "execution_count": 75
        }
      ],
      "source": [
        "check_accuracy(test_batch, model) #with attension unet"
      ]
    },
    {
      "cell_type": "code",
      "source": [
        "check_accuracy(test_batch, model)"
      ],
      "metadata": {
        "colab": {
          "base_uri": "https://localhost:8080/"
        },
        "id": "dv-Jet8tne31",
        "outputId": "720927ea-c937-405d-ac5b-00e01a5fc0b4"
      },
      "execution_count": null,
      "outputs": [
        {
          "output_type": "stream",
          "name": "stdout",
          "text": [
            "Got 5147024/5242880 with acc 98.17\n",
            "Dice score: 1.9948867559432983\n",
            "Mean IOU: 0.9246343970298767\n"
          ]
        },
        {
          "output_type": "execute_result",
          "data": {
            "text/plain": [
              "tensor(0.9246, device='cuda:0')"
            ]
          },
          "metadata": {},
          "execution_count": 83
        }
      ]
    },
    {
      "cell_type": "code",
      "source": [
        "check_accuracy(test_batch, model) #pytorch updated vanial unet "
      ],
      "metadata": {
        "colab": {
          "base_uri": "https://localhost:8080/"
        },
        "id": "DDfRdflPsUj7",
        "outputId": "d0ecaac5-ca07-427c-850a-d46392924a28"
      },
      "execution_count": null,
      "outputs": [
        {
          "output_type": "stream",
          "name": "stdout",
          "text": [
            "Got 5144017/5242880 with acc 98.11\n",
            "Dice score: 1.9938873052597046\n",
            "Mean IOU: 0.9229429364204407\n"
          ]
        },
        {
          "output_type": "execute_result",
          "data": {
            "text/plain": [
              "tensor(0.9229, device='cuda:0')"
            ]
          },
          "metadata": {},
          "execution_count": 90
        }
      ]
    },
    {
      "cell_type": "code",
      "source": [
        "check_accuracy(test_batch, model) #pytorch updated resunet unet "
      ],
      "metadata": {
        "colab": {
          "base_uri": "https://localhost:8080/"
        },
        "id": "Bo7EYPvBea32",
        "outputId": "6d1e0213-876d-4ba2-f17a-285132777337"
      },
      "execution_count": null,
      "outputs": [
        {
          "output_type": "stream",
          "name": "stdout",
          "text": [
            "Got 5140636/5242880 with acc 98.05\n",
            "Dice score: 1.9953851699829102\n",
            "Mean IOU: 0.9211367964744568\n"
          ]
        },
        {
          "output_type": "execute_result",
          "data": {
            "text/plain": [
              "tensor(0.9211, device='cuda:0')"
            ]
          },
          "metadata": {},
          "execution_count": 49
        }
      ]
    },
    {
      "cell_type": "code",
      "source": [
        "check_accuracy(test_batch, model) #pytorch updated plan vanila unet with normlization "
      ],
      "metadata": {
        "colab": {
          "base_uri": "https://localhost:8080/"
        },
        "id": "N9zK7l5cj_ja",
        "outputId": "378c4a0e-9590-4d15-c24d-a37f9bdd6ded"
      },
      "execution_count": null,
      "outputs": [
        {
          "output_type": "stream",
          "name": "stdout",
          "text": [
            "Got 5146201/5242880 with acc 98.16\n",
            "Dice score: 1.9953806400299072\n",
            "Mean IOU: 0.9248954653739929\n"
          ]
        },
        {
          "output_type": "execute_result",
          "data": {
            "text/plain": [
              "tensor(0.9249, device='cuda:0')"
            ]
          },
          "metadata": {},
          "execution_count": 106
        }
      ]
    },
    {
      "cell_type": "code",
      "source": [
        "check_accuracy(test_batch, model) #pytorch updated plan vanila unet with normlization "
      ],
      "metadata": {
        "colab": {
          "base_uri": "https://localhost:8080/"
        },
        "id": "Fkbbs00JhQ5t",
        "outputId": "bf0c6e17-7201-4066-9c94-6b622ceb4852"
      },
      "execution_count": null,
      "outputs": [
        {
          "output_type": "stream",
          "name": "stdout",
          "text": [
            "Got 5134853/5242880 with acc 97.94\n",
            "Dice score: 1.9941147565841675\n",
            "Mean IOU: 0.9131608009338379\n"
          ]
        },
        {
          "output_type": "execute_result",
          "data": {
            "text/plain": [
              "tensor(0.9132, device='cuda:0')"
            ]
          },
          "metadata": {},
          "execution_count": 36
        }
      ]
    },
    {
      "cell_type": "code",
      "source": [
        "check_accuracy(test_batch, model) "
      ],
      "metadata": {
        "colab": {
          "base_uri": "https://localhost:8080/"
        },
        "id": "fH-TlnHBIHIy",
        "outputId": "39bde746-0e41-4415-afdc-1974cd459bfb"
      },
      "execution_count": 139,
      "outputs": [
        {
          "output_type": "stream",
          "name": "stdout",
          "text": [
            "Got 20529201/20971520 with acc 97.89\n",
            "Dice score: 1.9880688190460205\n",
            "Mean IOU: 0.9131507873535156\n"
          ]
        },
        {
          "output_type": "execute_result",
          "data": {
            "text/plain": [
              "tensor(0.9132, device='cuda:0')"
            ]
          },
          "metadata": {},
          "execution_count": 139
        }
      ]
    },
    {
      "cell_type": "code",
      "execution_count": null,
      "metadata": {
        "id": "DeMeLsSrmf-l"
      },
      "outputs": [],
      "source": [
        "softmax = nn.Softmax(dim=1)\n",
        "torch.argmax(softmax(y),axis=1).shape\n",
        "#preds = torch.argmax(softmax(model(x)),axis=1)\n",
        "#y = torch.argmax(softmax(y),axis=1)\n"
      ]
    },
    {
      "cell_type": "code",
      "execution_count": null,
      "metadata": {
        "id": "hxTKqj3keSM1"
      },
      "outputs": [],
      "source": [
        "for x,y in train_batch:\n",
        "    x = x.to(DEVICE)\n",
        "    fig , ax =  plt.subplots(3, 3, figsize=(18, 18))\n",
        "    softmax = nn.Softmax(dim=1)\n",
        "    preds = torch.argmax(softmax(model(x)),axis=1).to('cpu')\n",
        "    y = torch.argmax(softmax(y),axis=1)\n",
        "    img1 = np.transpose(np.array(x[0,:,:,:].to('cpu')),(1,2,0))\n",
        "    preds1 = np.array(preds[0,:,:])\n",
        "    mask1 = np.array(y[0,:,:])\n",
        "    img2 = np.transpose(np.array(x[1,:,:,:].to('cpu')),(1,2,0))\n",
        "    preds2 = np.array(preds[1,:,:])\n",
        "    mask2 = np.array(y[1,:,:])\n",
        "    img3 = np.transpose(np.array(x[2,:,:,:].to('cpu')),(1,2,0))\n",
        "    preds3 = np.array(preds[2,:,:])\n",
        "    mask3 = np.array(y[2,:,:])\n",
        "    ax[0,0].set_title('Image')\n",
        "    ax[0,1].set_title('Prediction')\n",
        "    ax[0,2].set_title('Mask')\n",
        "    ax[1,0].set_title('Image')\n",
        "    ax[1,1].set_title('Prediction')\n",
        "    ax[1,2].set_title('Mask')\n",
        "    ax[2,0].set_title('Image')\n",
        "    ax[2,1].set_title('Prediction')\n",
        "    ax[2,2].set_title('Mask')\n",
        "    ax[0][0].axis(\"off\")\n",
        "    ax[1][0].axis(\"off\")\n",
        "    ax[2][0].axis(\"off\")\n",
        "    ax[0][1].axis(\"off\")\n",
        "    ax[1][1].axis(\"off\")\n",
        "    ax[2][1].axis(\"off\")\n",
        "    ax[0][2].axis(\"off\")\n",
        "    ax[1][2].axis(\"off\")\n",
        "    ax[2][2].axis(\"off\")\n",
        "    ax[0][0].imshow(img1)\n",
        "    ax[0][1].imshow(preds1)\n",
        "    ax[0][2].imshow(mask1)\n",
        "    ax[1][0].imshow(img2)\n",
        "    ax[1][1].imshow(preds2)\n",
        "    ax[1][2].imshow(mask2)\n",
        "    ax[2][0].imshow(img3)\n",
        "    ax[2][1].imshow(preds3)\n",
        "    ax[2][2].imshow(mask3)   \n",
        "    break"
      ]
    },
    {
      "cell_type": "code",
      "execution_count": null,
      "metadata": {
        "id": "_ktO8G1iLsAW"
      },
      "outputs": [],
      "source": []
    }
  ],
  "metadata": {
    "accelerator": "GPU",
    "colab": {
      "provenance": [],
      "gpuType": "T4"
    },
    "kernelspec": {
      "display_name": "Python 3",
      "name": "python3"
    },
    "language_info": {
      "name": "python"
    }
  },
  "nbformat": 4,
  "nbformat_minor": 0
}